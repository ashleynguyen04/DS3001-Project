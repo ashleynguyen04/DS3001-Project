{
  "nbformat": 4,
  "nbformat_minor": 0,
  "metadata": {
    "colab": {
      "provenance": [],
      "authorship_tag": "ABX9TyNw2qaeV4iqmpcfUXwAA/yT",
      "include_colab_link": true
    },
    "kernelspec": {
      "name": "python3",
      "display_name": "Python 3"
    },
    "language_info": {
      "name": "python"
    }
  },
  "cells": [
    {
      "cell_type": "markdown",
      "metadata": {
        "id": "view-in-github",
        "colab_type": "text"
      },
      "source": [
        "<a href=\"https://colab.research.google.com/github/ashleynguyen04/DS3001-Project/blob/main/Final_Paper.ipynb\" target=\"_parent\"><img src=\"https://colab.research.google.com/assets/colab-badge.svg\" alt=\"Open In Colab\"/></a>"
      ]
    },
    {
      "cell_type": "markdown",
      "source": [
        "**Can we predict whether an individual is likely to have diabetes based on simple, non-invasive health and demographic information?**\n",
        "\n",
        "Ashley Nguyen (rhw9tv), Ahmed Ahmed (pzs2vx), and Sanket Doddabendigere (kfr9mc)"
      ],
      "metadata": {
        "id": "uOY25hMhA1SO"
      }
    },
    {
      "cell_type": "markdown",
      "source": [
        "Abstract"
      ],
      "metadata": {
        "id": "sUCHFPCRA7YP"
      }
    },
    {
      "cell_type": "markdown",
      "source": [
        "Introduction"
      ],
      "metadata": {
        "id": "0q2M74WtA8D8"
      }
    },
    {
      "cell_type": "markdown",
      "source": [
        "Data\n",
        "\n"
      ],
      "metadata": {
        "id": "PDOYJvBXBAp_"
      }
    },
    {
      "cell_type": "markdown",
      "source": [
        "Methods"
      ],
      "metadata": {
        "id": "VoH-pBKwA84l"
      }
    },
    {
      "cell_type": "markdown",
      "source": [
        "Results"
      ],
      "metadata": {
        "id": "A65e_cgvA91U"
      }
    },
    {
      "cell_type": "markdown",
      "source": [
        "Conclusoin"
      ],
      "metadata": {
        "id": "DarmY5QEA-fx"
      }
    }
  ]
}