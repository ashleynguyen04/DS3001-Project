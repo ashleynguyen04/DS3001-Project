{
  "cells": [
    {
      "cell_type": "markdown",
      "metadata": {
        "id": "buBgezUP_73H"
      },
      "source": [
        "**01: PROJECT WRANGLING/EDA**"
      ]
    },
    {
      "cell_type": "markdown",
      "source": [
        "1.\tWhat is in your data?\n",
        "\n",
        "CDC Diabetes Health Indicators dataset from Kaggle\n",
        "\n",
        "\n",
        "2. How will these data be useful for studying the phenomenon you're interested in?\n",
        "\n",
        "As this data includes many common health indicators of diabetes, for example cholesterol and physical activity, it will help us create a model to predict people’s risk of diabetes based on their current health status.\n",
        "\n",
        "\n",
        "3.\tWhat are the challenges you've resolved or expect to face in using them?\n",
        "\n",
        "As the data is relatively clean already, the biggest challenge will be creating an effective and efficient model. With the nature of the dataset, we plan on using a Random Forest model to make predictions; however, we have minimal background with this style of machine learning. Therefore, a major challenge of this project will be learning and understanding this method before implementing.\n"
      ],
      "metadata": {
        "id": "7wJI7CU4_86I"
      }
    },
    {
      "cell_type": "markdown",
      "source": [
        "EDA"
      ],
      "metadata": {
        "id": "jxR-rx5WAYVM"
      }
    }
  ],
  "metadata": {
    "kernelspec": {
      "display_name": "Python 3",
      "language": "python",
      "name": "python3"
    },
    "language_info": {
      "name": "python",
      "version": "3.12.0"
    },
    "colab": {
      "provenance": []
    }
  },
  "nbformat": 4,
  "nbformat_minor": 0
}