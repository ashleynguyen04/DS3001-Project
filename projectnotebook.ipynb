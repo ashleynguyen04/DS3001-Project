{
  "cells": [
    {
      "cell_type": "markdown",
      "metadata": {
        "id": "buBgezUP_73H"
      },
      "source": [
        "**01: PROJECT WRANGLING/EDA**"
      ]
    },
    {
      "cell_type": "markdown",
      "metadata": {
        "id": "7wJI7CU4_86I"
      },
      "source": [
        "1.\tWhat is in your data?\n",
        "\n",
        "CDC Diabetes Health Indicators dataset from Kaggle\n",
        "\n",
        "Variables include:\n",
        "Diabetes, High BP, High Cholesterol, Cholesterol Check, BMI, Smoker, Stroke, Heart Disease or Attack, Physical activity, Consumes Fruits, Consumes Veggies, Heavy Alcohol Consumption, Any Healthcare, No doctor because of cost, General Health, Mental Health, Physical Health, Difficulty Walking, Sex, Age, Education, Income\n",
        "\n",
        "\n",
        "2. How will these data be useful for studying the phenomenon you're interested in?\n",
        "\n",
        "As this data includes many common health indicators of diabetes, for example cholesterol and physical activity, it will be helpful to create a model to predict people’s risk of diabetes based on their current health status.\n",
        "\n",
        "\n",
        "3.\tWhat are the challenges you've resolved or expect to face in using them?\n",
        "\n",
        "As the data is relatively clean already, the biggest challenge will be creating an effective and efficient model. With the nature of the dataset, we plan on using a Random Forest model to make predictions; however, we have minimal background with this style of machine learning. Therefore, a major challenge of this project will be learning and understanding this method before implementing it.\n"
      ]
    },
    {
      "cell_type": "markdown",
      "metadata": {
        "id": "jxR-rx5WAYVM"
      },
      "source": [
        "EDA"
      ]
    },
    {
      "cell_type": "code",
      "execution_count": null,
      "metadata": {
        "colab": {
          "base_uri": "https://localhost:8080/",
          "height": 255
        },
        "id": "-oj-3_rqBCBA",
        "outputId": "f4f1756c-5029-4e63-9c5b-778fa8717b57"
      },
      "outputs": [],
      "source": [
        "import pandas as pd\n",
        "import seaborn as sns\n",
        "import numpy as np\n",
        "import matplotlib.pyplot as plt\n",
        "\n",
        "\n",
        "dataset = 'https://raw.githubusercontent.com/ashleynguyen04/DS3001-Project/refs/heads/main/diabetes_binary_health_indicators_BRFSS2015.csv'\n",
        "df = pd.read_csv(dataset)\n",
        "\n",
        "df.head()\n",
        "\n",
        "# bar and pie chart\n",
        "distribution = df['Diabetes_012'].value_counts()\n",
        "distribution.plot(kind='bar', color=['green', 'orange', 'red'], title='Class Distribution')\n",
        "plt.xlabel('Class')\n",
        "plt.ylabel('Count')\n",
        "plt.xticks(ticks=[0, 1, 2], labels=['Healthy', 'Prediabetes', 'Diabetes'], rotation=0)\n",
        "plt.show()\n",
        "\n",
        "#pie chart\n",
        "distribution.plot(kind='pie', labels=['Healthy', 'Prediabetes', 'Diabetes'], autopct='%1.1f%%',\n",
        "                  colors=['green', 'orange', 'red'], title='Class Distribution')\n",
        "plt.ylabel('')\n",
        "plt.show()\n",
        "\n",
        "num_features = ['Age', 'BMI']\n",
        "cat_features = ['HighBP', 'HighChol', 'PhysActivity']\n",
        "\n",
        "#numerical summary\n",
        "num_summary = df[num_features].describe().T\n",
        "num_summary['median'] = df[num_features].median()\n",
        "print(\"Numerical Feature Statistics:\\n\", num_summary)\n",
        "\n",
        "# cat frequency counts\n",
        "for col in cat_features:\n",
        "    if col in df.columns:\n",
        "        print(f\"\\nFrequency count for {col}:\")\n",
        "        print(df[col].value_counts())\n",
        "    else:\n",
        "        print(f\"\\nWarning: Column '{col}' not found in dataset.\")\n",
        "\n",
        "# histogram/KDE for BMI across diabetes groups\n",
        "sns.histplot(data=df, x='BMI', hue='Diabetes_012', kde=True, bins=30, palette=['green', 'orange', 'red'])\n",
        "plt.title(\"BMI Distribution by Diabetes Class\")\n",
        "plt.xlabel(\"BMI\")\n",
        "plt.ylabel(\"Density\")\n",
        "plt.legend(title=\"Diabetes Class\", labels=['Healthy', 'Prediabetes', 'Diabetes'])\n",
        "plt.show()"
      ]
    },
    {
      "cell_type": "code",
      "execution_count": null,
      "metadata": {},
      "outputs": [],
      "source": []
    }
  ],
  "metadata": {
    "colab": {
      "provenance": []
    },
    "kernelspec": {
      "display_name": "Python 3",
      "language": "python",
      "name": "python3"
    },
    "language_info": {
      "codemirror_mode": {
        "name": "ipython",
        "version": 3
      },
      "file_extension": ".py",
      "mimetype": "text/x-python",
      "name": "python",
      "nbconvert_exporter": "python",
      "pygments_lexer": "ipython3",
      "version": "3.12.0"
    }
  },
  "nbformat": 4,
  "nbformat_minor": 0
}
